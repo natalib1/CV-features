{
  "nbformat": 4,
  "nbformat_minor": 0,
  "metadata": {
    "colab": {
      "name": "mmn11.ipynb",
      "version": "0.3.2",
      "provenance": [],
      "private_outputs": true,
      "collapsed_sections": []
    },
    "kernelspec": {
      "name": "python3",
      "display_name": "Python 3"
    },
    "accelerator": "GPU"
  },
  "cells": [
    {
      "metadata": {
        "id": "ghM8PbPjyBmU",
        "colab_type": "code",
        "colab": {}
      },
      "cell_type": "code",
      "source": [
        "import numpy as np\n",
        "import cv2\n",
        "import scipy as sp\n",
        "import skimage as si\n",
        "from matplotlib import pyplot as plt\n",
        "%matplotlib inline"
      ],
      "execution_count": 0,
      "outputs": []
    },
    {
      "metadata": {
        "id": "Sp_Y_nyafysr",
        "colab_type": "text"
      },
      "cell_type": "markdown",
      "source": [
        "# Loading an image\n",
        "load an image  - using OpenCV"
      ]
    },
    {
      "metadata": {
        "id": "LoQdsSlrpZLp",
        "colab_type": "code",
        "colab": {}
      },
      "cell_type": "code",
      "source": [
        "!wget https://cms-assets.tutsplus.com/uploads/users/1181/posts/30095/image/boat850x850.jpg\n",
        "\n",
        "img = cv2.imread('boat850x850.jpg')\n",
        "\n",
        "plt.imshow(img)\n"
      ],
      "execution_count": 0,
      "outputs": []
    },
    {
      "metadata": {
        "id": "7ee1Bh5cS9J_",
        "colab_type": "text"
      },
      "cell_type": "markdown",
      "source": [
        "# Q1\n",
        "Q1.a"
      ]
    },
    {
      "metadata": {
        "id": "CMGz_5BdzhV8",
        "colab_type": "code",
        "colab": {}
      },
      "cell_type": "code",
      "source": [
        "img = cv2.imread('boat850x850.jpg')\n",
        "\n",
        "edges = cv2.Canny(img,25,255)\n",
        "\n",
        "plt.subplot(121)\n",
        "plt.imshow(img, cmap = 'gray')\n",
        "plt.title('Original Image'), plt.xticks([]), plt.yticks([])\n",
        "\n",
        "plt.subplot(122)\n",
        "plt.imshow(edges, cmap = 'gray')\n",
        "plt.title('Edge Image'), plt.xticks([]), plt.yticks([])\n",
        "\n",
        "plt.show()"
      ],
      "execution_count": 0,
      "outputs": []
    },
    {
      "metadata": {
        "id": "Y1YLJbWWmuYI",
        "colab_type": "text"
      },
      "cell_type": "markdown",
      "source": [
        "Q1.b"
      ]
    },
    {
      "metadata": {
        "id": "9uRYqJ1s9gEG",
        "colab_type": "code",
        "colab": {}
      },
      "cell_type": "code",
      "source": [
        "img = cv2.imread('boat850x850.jpg')\n",
        "\n",
        "gray = cv2.cvtColor(img,cv2.COLOR_BGR2GRAY)\n",
        "gray = np.float32(gray)\n",
        "dst = cv2.cornerHarris(gray,2,3,0.04)\n",
        "\n",
        "#result is dilated for marking the corners\n",
        "dst = cv2.dilate(dst,None)\n",
        "\n",
        "# Threshold for an optimal value\n",
        "img[dst>0.01*dst.max()]=[0,0,255]\n",
        "\n",
        "plt.imshow(img)"
      ],
      "execution_count": 0,
      "outputs": []
    },
    {
      "metadata": {
        "id": "EUnXE9hc_HaH",
        "colab_type": "text"
      },
      "cell_type": "markdown",
      "source": [
        "Q1.c"
      ]
    },
    {
      "metadata": {
        "id": "GGxLMT-5_LG9",
        "colab_type": "code",
        "colab": {}
      },
      "cell_type": "code",
      "source": [
        "img = cv2.imread('boat850x850.jpg')\n",
        "\n",
        "gray= cv2.cvtColor(img,cv2.COLOR_BGR2GRAY) \n",
        "\n",
        "sift = cv2.xfeatures2d.SIFT_create()\n",
        "#finding the key points without mask\n",
        "kp = sift.detect(gray,None)\n",
        "\n",
        "#drawing the key points on the image\n",
        "img=cv2.drawKeypoints(gray,kp) \n",
        "\n",
        "# cv2.imwrite('sift_keypoints.jpg',img)"
      ],
      "execution_count": 0,
      "outputs": []
    },
    {
      "metadata": {
        "id": "RzcGIW7PZnFZ",
        "colab_type": "text"
      },
      "cell_type": "markdown",
      "source": [
        "Q1.d"
      ]
    },
    {
      "metadata": {
        "id": "KYu56o1RZmOO",
        "colab_type": "code",
        "colab": {}
      },
      "cell_type": "code",
      "source": [
        "!wget https://pixwords.solutions/assets/images/image-38f58bcb330564cf15381fa68a74f831-STATUE%20OF%20LIBERTY.JPG\n",
        "!wget http://cafe.themarker.com/media/t/336/639/8/file_0.jpg\n",
        "\n",
        "img1 = cv2.imread('image-38f58bcb330564cf15381fa68a74f831-STATUE%20OF%20LIBERTY.JPG',0)          # queryImage\n",
        "img2 = cv2.imread('file_0.jpg',0) # trainImage\n",
        "\n",
        "\n",
        "# Initiate SIFT detector\n",
        "sift = cv2.xfeatures2d.SIFT_create()\n",
        "\n",
        "# find the keypoints and descriptors with SIFT\n",
        "kp1, des1 = sift.detectAndCompute(img1,None)\n",
        "kp2, des2 = sift.detectAndCompute(img2,None)\n",
        "\n",
        "# BFMatcher with default params\n",
        "bf = cv2.BFMatcher()\n",
        "matches = bf.knnMatch(des1,des2, k=2)\n",
        "\n",
        "# Apply ratio test\n",
        "good = []\n",
        "for m,n in matches:\n",
        "    if m.distance < 0.75*n.distance:\n",
        "        good.append([m])\n",
        "        \n",
        "# cv2.drawMatchesKnn expects list of lists as matches.\n",
        "img3 = cv2.drawMatchesKnn(img1,kp1,img2,kp2,good,flags=2)\n",
        "\n",
        "plt.imshow(img3)\n",
        "plt.show()"
      ],
      "execution_count": 0,
      "outputs": []
    },
    {
      "metadata": {
        "id": "WMa85vMPicsc",
        "colab_type": "text"
      },
      "cell_type": "markdown",
      "source": [
        " Q1.e"
      ]
    },
    {
      "metadata": {
        "id": "qr5pyCDNifQX",
        "colab_type": "code",
        "colab": {}
      },
      "cell_type": "code",
      "source": [
        "img = cv2.imread('boat850x850.jpg')\n",
        "gray = cv2.cvtColor(img,cv2.COLOR_BGR2GRAY) \n",
        "  \n",
        "# Apply edge detection method on the image \n",
        "edges = cv2.Canny(gray,50,150,apertureSize = 3) \n",
        "  \n",
        "# This returns an array of r and theta values \n",
        "lines = cv2.HoughLines(edges,1,np.pi/180, 200) \n",
        "  \n",
        "# The below for loop runs till r and theta values are in the range of the 2d array \n",
        "for r,theta in lines[0]:       \n",
        "    # Stores the value of cos(theta) in a \n",
        "    a = np.cos(theta) \n",
        "    # Stores the value of sin(theta) in b \n",
        "    b = np.sin(theta) \n",
        "    # x0 stores the value rcos(theta) \n",
        "    x0 = a*r \n",
        "    # y0 stores the value rsin(theta) \n",
        "    y0 = b*r \n",
        "    # x1 stores the rounded off value of (rcos(theta)-1000sin(theta)) \n",
        "    x1 = int(x0 + 1000*(-b)) \n",
        "    # y1 stores the rounded off value of (rsin(theta)+1000cos(theta)) \n",
        "    y1 = int(y0 + 1000*(a)) \n",
        "    # x2 stores the rounded off value of (rcos(theta)+1000sin(theta)) \n",
        "    x2 = int(x0 - 1000*(-b)) \n",
        "    # y2 stores the rounded off value of (rsin(theta)-1000cos(theta)) \n",
        "    y2 = int(y0 - 1000*(a)) \n",
        "      \n",
        "    # cv2.line draws a line in img from the point(x1,y1) to (x2,y2). \n",
        "    cv2.line(img,(x1,y1), (x2,y2), (0,0,255),2) \n",
        "    plt.imshow(img)\n",
        "      \n",
        "plt.imshow(img)"
      ],
      "execution_count": 0,
      "outputs": []
    },
    {
      "metadata": {
        "id": "VsMVeEJ6kFs3",
        "colab_type": "text"
      },
      "cell_type": "markdown",
      "source": [
        "#Q2\n",
        "\n",
        "we send to k-means function the data (Z=8 random points), K = number of means (3), criteria to stop the algorithm (explanation below), number of attempts (10).\n",
        "\n",
        "the k-means returns the k centers (means) according to the flag KMEANS_RANDOM_CENTERS and the points with the labels of the group it's belong.\n",
        "\n",
        "criteria : stop the algorithm when the algorithm iteration if specified accuracy, epsilon, is reached (in this case epsilon = 0.1) or after the specified number of iterations (in this case max_iter = 10).\n"
      ]
    },
    {
      "metadata": {
        "id": "KMhJFj4Lnwfk",
        "colab_type": "code",
        "colab": {}
      },
      "cell_type": "code",
      "source": [
        "randArray = np.random.randint (1,13,(8,2))\n",
        "print (randArray)\n",
        "\n",
        "# convert to np.float32\n",
        "Z = np.float32(randArray)\n",
        "\n",
        "# define criteria and apply kmeans()\n",
        "criteria = (cv2.TERM_CRITERIA_EPS + cv2.TERM_CRITERIA_MAX_ITER, 50, 1.0)\n",
        "ret,label,center=cv2.kmeans(Z,3,None,criteria,10,cv2.KMEANS_RANDOM_CENTERS)\n",
        "\n",
        "# Now separate the data, Note the flatten()\n",
        "A = Z[label.ravel()==0]\n",
        "B = Z[label.ravel()==1]\n",
        "C = Z[label.ravel()==2]\n",
        "\n",
        "# Plot the data\n",
        "plt.scatter(A[:,0],A[:,1],c = 'b')\n",
        "plt.scatter(B[:,0],B[:,1],c = 'r')\n",
        "plt.scatter(C[:,0],C[:,1],c = 'g')\n",
        "plt.scatter(center[:,0],center[:,1],s = 80,c = 'y', marker = 's')\n",
        "plt.xlabel('X'),plt.ylabel('Y')\n",
        "\n",
        "plt.show()"
      ],
      "execution_count": 0,
      "outputs": []
    },
    {
      "metadata": {
        "id": "fbpH9zDQBL1N",
        "colab_type": "text"
      },
      "cell_type": "markdown",
      "source": [
        "#Q3\n",
        "\n",
        "calculate B (=a,b,c) by the formulla X(t)*X*b = X(t)*Y"
      ]
    },
    {
      "metadata": {
        "id": "4VTWCo6gBN4I",
        "colab_type": "code",
        "colab": {}
      },
      "cell_type": "code",
      "source": [
        "arr = [(1,3.96),(4,27.96),(3,15.15),(5,45.8),(2,7.07),(6,69.4)]\n",
        "\n",
        "#create X (x^2=p[0]*p[0])\n",
        "X = np.array(list(map(lambda p: ([p[0] * p[0], p[0], 1]), arr)))\n",
        "\n",
        "#create Y\n",
        "Y = np.array(list(map(lambda p: p[1], arr)))\n",
        "\n",
        "#create B = (X(t)*X)(-1) * X(t) * Y(t)\n",
        "XtX_1 = np.linalg.inv(np.dot(X.T, X))\n",
        "B = np.dot(np.dot(XtX_1, X.T), Y.T)\n",
        "\n",
        "print('X= ', X)\n",
        "print('Y= ', Y)\n",
        "print('B= ', B)\n",
        "\n",
        "x = np.linspace(-4,6,50)\n",
        "y = B[0]*x*x + B[1]*x + B[2]\n",
        "\n",
        "# Plot the data\n",
        "plt.scatter(np.array(arr)[:,0] , np.array(arr)[:,1], c = 'b')\n",
        "plt.scatter(x, y, s=1, c = 'r')\n",
        "plt.xlabel('X'),plt.ylabel('Y')\n",
        "\n",
        "plt.show()\n",
        "\n",
        "\n",
        "\n",
        "\n"
      ],
      "execution_count": 0,
      "outputs": []
    },
    {
      "metadata": {
        "id": "2ik63tHMx_Rr",
        "colab_type": "text"
      },
      "cell_type": "markdown",
      "source": [
        "#Q4\n",
        "\n",
        "calculate covariance matrix:\n",
        "[sum of (Xi - meanX)^2                          sum of (Xi - meanX)(Yi-meanY)]\n",
        "[sum of (Xi - meanX)(Yi-meanY)                          sum of (Xi - meanX)^2]\n",
        "\n",
        "calculate eigenvalues:\n",
        "det(cov_matrix - eigenval*I) = 0\n",
        "\n",
        "calculate eigenvectors:\n",
        "cov_matrix * [eigenvec] = [eigenvalue*eigenvector]\n",
        "\n",
        "W = [eigenvector1    eigenvector2]\n",
        "\n",
        "PCA matrix: W(t) * (array - mean_vector)\n",
        "\n",
        "RESTORED matrix: W(t) * pca_matrix + mean_vector"
      ]
    },
    {
      "metadata": {
        "id": "lvhRnOL4yA4e",
        "colab_type": "code",
        "colab": {}
      },
      "cell_type": "code",
      "source": [
        "arr0 = [(2.5,2.9), (0.5,1.2), (2.2,3.4), (1.9,2.7), (3.1,3.5), (2.3,3.2), (2,2.1), (1,1.6), (1.5,2.1), (1.1,1.4)]\n",
        "arr = np.array(arr0).T\n",
        "print ('ARRAY: '), print (arr)\n",
        "\n",
        "mean_vec = np.array([np.mean(arr0, axis=0)]).T\n",
        "print (mean_vec)\n",
        "\n",
        "#calculate covariance matrix of features\n",
        "cov_matrix = np.cov(arr)\n",
        "print ('COVARIANCE MATRIX: '), print (cov_matrix)\n",
        "\n",
        "#calculate eigenvalues\n",
        "e_vals, e_vecs = sp.linalg.eig(cov_matrix)\n",
        "print ('EIGENVALUES: '), print (e_vals)\n",
        "print ('EIGENVECTORS (W): '), print (e_vecs)\n",
        "\n",
        "#calculate PCA matrix\n",
        "pca_matrix = np.array([np.dot(e_vecs.T[1], arr - mean_vec)])\n",
        "print ('PCA MATRIX: '), print (pca_matrix)\n",
        "\n",
        "#calculate restored matrix\n",
        "res_matrix = (np.dot(np.array([e_vecs[0]]).T, pca_matrix) + mean_vec).T\n",
        "print ('RESTORED MATRIX: '), print (res_matrix)\n",
        "\n",
        "# Plot the data\n",
        "\n",
        "#original data\n",
        "plt.scatter(np.array(arr0)[:,0] , np.array(arr0)[:,1], c = 'b')\n",
        "#data after PCA\n",
        "# plt.scatter(np.array(pca_matrix)[:,0] , 0, c = 'r')\n",
        "plt.plot(pca_matrix, np.zeros((1,10)), '*', c = 'r')\n",
        "#restored data\n",
        "plt.scatter(np.array(res_matrix)[:,0] , np.array(res_matrix)[:,1], c = 'g')\n",
        "plt.xlabel('X'),plt.ylabel('Y')\n",
        "\n",
        "plt.show()\n"
      ],
      "execution_count": 0,
      "outputs": []
    }
  ]
}
